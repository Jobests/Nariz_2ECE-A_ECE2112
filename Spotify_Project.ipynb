{
 "cells": [
  {
   "cell_type": "markdown",
   "id": "044a69d1-f3be-42dd-8a55-5284aa15d608",
   "metadata": {},
   "source": [
    "## Import Libraries Needed"
   ]
  },
  {
   "cell_type": "code",
   "execution_count": 2,
   "id": "f1560887-ce0e-4c26-94b8-9bea804d3467",
   "metadata": {
    "scrolled": true
   },
   "outputs": [],
   "source": [
    "import pandas as pd\n",
    "import matplotlib.pyplot as plt\n",
    "import seaborn as sns"
   ]
  },
  {
   "cell_type": "markdown",
   "id": "ccaa4afd-f5df-4267-a50b-a657618ff964",
   "metadata": {},
   "source": [
    "## Load Dataset"
   ]
  },
  {
   "cell_type": "code",
   "execution_count": 4,
   "id": "235023de-2e0f-45c6-9af1-0c9efe59f232",
   "metadata": {},
   "outputs": [],
   "source": [
    "spotify = pd.read_csv('spotify_2023.csv', encoding='ISO-8859-1')"
   ]
  },
  {
   "cell_type": "markdown",
   "id": "b970558a-bfe4-4369-89f2-716563b47c6a",
   "metadata": {},
   "source": [
    "## Identify the number of rows and columns"
   ]
  },
  {
   "cell_type": "code",
   "execution_count": 6,
   "id": "46878e6b-4a95-4a0f-800a-33d899002b9a",
   "metadata": {},
   "outputs": [
    {
     "name": "stdout",
     "output_type": "stream",
     "text": [
      "The number of rows are: 953\n",
      "The number of columns are: 24\n"
     ]
    }
   ],
   "source": [
    "n_rows, n_columns = spotify.shape\n",
    "print('The number of rows are:', n_rows)\n",
    "print('The number of columns are:', n_columns)"
   ]
  },
  {
   "cell_type": "markdown",
   "id": "0b15fc70-5ae4-4a9e-b968-9a479055debc",
   "metadata": {},
   "source": [
    "## Identify each column's data types"
   ]
  },
  {
   "cell_type": "code",
   "execution_count": 8,
   "id": "6f667bdf-860b-4de2-813d-8744896d8b09",
   "metadata": {},
   "outputs": [
    {
     "name": "stdout",
     "output_type": "stream",
     "text": [
      "Data types of each columns are:\n",
      "track_name              object\n",
      "artist(s)_name          object\n",
      "artist_count             int64\n",
      "released_year            int64\n",
      "released_month           int64\n",
      "released_day             int64\n",
      "in_spotify_playlists     int64\n",
      "in_spotify_charts        int64\n",
      "streams                 object\n",
      "in_apple_playlists       int64\n",
      "in_apple_charts          int64\n",
      "in_deezer_playlists     object\n",
      "in_deezer_charts         int64\n",
      "in_shazam_charts        object\n",
      "bpm                      int64\n",
      "key                     object\n",
      "mode                    object\n",
      "danceability_%           int64\n",
      "valence_%                int64\n",
      "energy_%                 int64\n",
      "acousticness_%           int64\n",
      "instrumentalness_%       int64\n",
      "liveness_%               int64\n",
      "speechiness_%            int64\n",
      "dtype: object\n"
     ]
    }
   ],
   "source": [
    "data_types = spotify.dtypes\n",
    "print('Data types of each columns are:')\n",
    "print(data_types)"
   ]
  },
  {
   "cell_type": "markdown",
   "id": "bb9c9740-b9d4-4024-b739-c728e05df674",
   "metadata": {},
   "source": [
    "## Find the missing values of each column"
   ]
  },
  {
   "cell_type": "code",
   "execution_count": 16,
   "id": "1801daf1-1024-4d12-94ec-25dfd80b277e",
   "metadata": {},
   "outputs": [
    {
     "name": "stdout",
     "output_type": "stream",
     "text": [
      "The columns that have missing values are:\n",
      "in_shazam_charts    50\n",
      "key                 95\n",
      "dtype: int64\n"
     ]
    }
   ],
   "source": [
    "missing_values = pd.isnull(spotify).sum()\n",
    "print('The columns that have missing values are:')\n",
    "print(missing_values[missing_values>0])"
   ]
  },
  {
   "cell_type": "code",
   "execution_count": null,
   "id": "afd3ed85-0cfa-4802-b04c-cac0f9086b67",
   "metadata": {},
   "outputs": [],
   "source": []
  }
 ],
 "metadata": {
  "kernelspec": {
   "display_name": "Python 3 (ipykernel)",
   "language": "python",
   "name": "python3"
  },
  "language_info": {
   "codemirror_mode": {
    "name": "ipython",
    "version": 3
   },
   "file_extension": ".py",
   "mimetype": "text/x-python",
   "name": "python",
   "nbconvert_exporter": "python",
   "pygments_lexer": "ipython3",
   "version": "3.12.4"
  }
 },
 "nbformat": 4,
 "nbformat_minor": 5
}
